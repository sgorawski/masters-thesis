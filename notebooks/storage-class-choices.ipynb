{
 "cells": [
  {
   "cell_type": "markdown",
   "id": "1dfb3f06-7b37-4c8a-8809-12c04d8fcdd5",
   "metadata": {},
   "source": [
    "# Storage class choices\n",
    "\n",
    "Author: Sławomir Górawski"
   ]
  },
  {
   "cell_type": "code",
   "execution_count": 1,
   "id": "ef1b3ae9-5a0c-4447-b53d-5debfe4cbd3a",
   "metadata": {},
   "outputs": [],
   "source": [
    "import numpy as np\n",
    "import matplotlib.pyplot as plt\n",
    "import matplotlib.ticker as ticker\n",
    "import pandas as pd\n",
    "import ipywidgets as widgets\n",
    "from IPython.display import display, Markdown"
   ]
  },
  {
   "cell_type": "code",
   "execution_count": 2,
   "id": "ca917c57-f23f-47c0-bfb5-a74f9a60d9a0",
   "metadata": {},
   "outputs": [],
   "source": [
    "# Taken from https://cloud.google.com/storage/pricing\n",
    "# Data for region Warsaw (europe-central2) as of October 2024.\n",
    "# All prices in USD per GB, monthly.\n",
    "STANDARD_STORAGE_PRICE = 0.023\n",
    "COLDLINE_STORAGE_PRICE = 0.006\n",
    "ARCHIVAL_STORAGE_PRICE = 0.0025"
   ]
  },
  {
   "cell_type": "code",
   "execution_count": 8,
   "id": "6ebf150a-75f6-44d6-ab04-cecd128f1875",
   "metadata": {},
   "outputs": [
    {
     "data": {
      "application/vnd.jupyter.widget-view+json": {
       "model_id": "34a624cc911840dba98cc6d8c8108f5f",
       "version_major": 2,
       "version_minor": 0
      },
      "text/plain": [
       "interactive(children=(Text(value='10,100,1000', continuous_update=False, description='Data [TB]', placeholder=…"
      ]
     },
     "metadata": {},
     "output_type": "display_data"
    }
   ],
   "source": [
    "def calculate(total_data_tb: str, coldline_ratio: float, archival_ratio: float, log_scale: bool):\n",
    "    index = [int(v.strip()) for v in total_data_tb.split(',') if v]\n",
    "\n",
    "    column_descs = {\n",
    "        'opt1': 'Standard storage only cost [$/mo]',\n",
    "        'opt2': 'Standard and coldline storage cost [$/mo]',\n",
    "        'opt3': 'Standard, coldline and archival storage cost [$/mo]',\n",
    "    }\n",
    "    \n",
    "    # Calculate the results and put them into a DataFrame\n",
    "    \n",
    "    df = pd.DataFrame(columns=column_descs.keys(), index=index)\n",
    "    \n",
    "    for data_tb in index:\n",
    "        total_data_gb = data_tb * 1000\n",
    "        opt1_total_cost = total_data_gb * STANDARD_STORAGE_PRICE\n",
    "        \n",
    "        opt2_standard_cost = total_data_gb * (1 - coldline_ratio) * STANDARD_STORAGE_PRICE\n",
    "        opt2_coldline_cost = total_data_gb * coldline_ratio * COLDLINE_STORAGE_PRICE\n",
    "        opt2_total_cost = opt2_standard_cost + opt2_coldline_cost\n",
    "    \n",
    "        opt3_standard_cost = total_data_gb * (1 - coldline_ratio) * STANDARD_STORAGE_PRICE\n",
    "        opt3_coldline_cost = total_data_gb * (coldline_ratio - archival_ratio) * COLDLINE_STORAGE_PRICE\n",
    "        opt3_archival_cost = total_data_gb * archival_ratio * ARCHIVAL_STORAGE_PRICE\n",
    "        opt3_total_cost = opt3_standard_cost + opt3_coldline_cost + opt3_archival_cost\n",
    "    \n",
    "        df.loc[data_tb] = [opt1_total_cost, opt2_total_cost, opt3_total_cost]\n",
    "    \n",
    "    display(df.rename_axis('Total data [TB]').rename(columns=column_descs))\n",
    "    \n",
    "    # Plot the results\n",
    "    \n",
    "    # Define the width of the bars\n",
    "    bar_width = 0.2\n",
    "    \n",
    "    # Set the positions of the bars on the x-axis\n",
    "    index_positions = np.arange(len(df))\n",
    "    \n",
    "    # Create the figure and axes\n",
    "    plt.figure(figsize=(8,6))\n",
    "    \n",
    "    # Plot the bars for both columns\n",
    "    plt.bar(index_positions, df['opt1'], bar_width, label=column_descs['opt1'], color='lightgray', edgecolor='black', hatch='/')\n",
    "    plt.bar(index_positions + bar_width, df['opt2'], bar_width, label=column_descs['opt2'], color='gray', edgecolor='black', hatch='.')\n",
    "    plt.bar(index_positions + 2 * bar_width, df['opt3'], bar_width, label=column_descs['opt3'], color='darkgray', edgecolor='black', hatch='x')\n",
    "    \n",
    "    # Add labels and title\n",
    "    plt.xlabel('Total data [TB]')\n",
    "    plt.ylabel('Total costs [$/mo]' + (' (log scale)' if log_scale else ''))\n",
    "    plt.title('Storage classes: monthly costs comparison')\n",
    "    \n",
    "    # Add tick marks for the index\n",
    "    plt.xticks(index_positions + bar_width, df.index)\n",
    "    \n",
    "    if log_scale:\n",
    "        # Set the y-axis to logarithmic scale\n",
    "        plt.yscale('log')\n",
    "    \n",
    "    # Use plain decimal format for the y-axis labels\n",
    "    ax = plt.gca()  # Get current axis\n",
    "    ax.yaxis.set_major_formatter(ticker.ScalarFormatter())\n",
    "    ax.yaxis.get_major_formatter().set_scientific(False)\n",
    "    ax.ticklabel_format(axis='y', style='plain')  # Ensure plain decimal format\n",
    "    \n",
    "    # Add legend\n",
    "    plt.legend()\n",
    "    \n",
    "    # Display the chart\n",
    "    plt.show()\n",
    "\n",
    "total_data_tb_widget = widgets.Text(value='10,100,1000', description='Data [TB]', placeholder='Add values, comma separated')\n",
    "coldline_data_ratio_widget = widgets.FloatText(value=0.9, description='Coldine ratio')\n",
    "archival_data_ratio_widget = widgets.FloatText(value=0.5, description='Archival ratio')\n",
    "chart_log_scale_widget = widgets.Checkbox(value=True, description='Log scale (for the chart)')\n",
    "\n",
    "widgets.interact_manual(\n",
    "    calculate,\n",
    "    total_data_tb=total_data_tb_widget,\n",
    "    coldline_ratio=coldline_data_ratio_widget,\n",
    "    archival_ratio=archival_data_ratio_widget,\n",
    "    log_scale=chart_log_scale_widget,\n",
    ");"
   ]
  }
 ],
 "metadata": {
  "kernelspec": {
   "display_name": "Python 3 (ipykernel)",
   "language": "python",
   "name": "python3"
  },
  "language_info": {
   "codemirror_mode": {
    "name": "ipython",
    "version": 3
   },
   "file_extension": ".py",
   "mimetype": "text/x-python",
   "name": "python",
   "nbconvert_exporter": "python",
   "pygments_lexer": "ipython3",
   "version": "3.13.0"
  }
 },
 "nbformat": 4,
 "nbformat_minor": 5
}
